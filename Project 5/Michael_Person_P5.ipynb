{
 "cells": [
  {
   "cell_type": "markdown",
   "metadata": {
    "deletable": true,
    "editable": true
   },
   "source": [
    "# Import Libraries"
   ]
  },
  {
   "cell_type": "code",
   "execution_count": 1,
   "metadata": {
    "collapsed": false,
    "deletable": true,
    "editable": true
   },
   "outputs": [],
   "source": [
    "import glob\n",
    "import pickle\n",
    "from lesson_functions import *\n",
    "from moviepy.editor import VideoFileClip\n",
    "from IPython.display import HTML\n",
    "from scipy.ndimage.measurements import label\n",
    "import collections as col\n",
    "import numpy as np\n",
    "import cv2\n",
    "import matplotlib.pyplot as plt\n",
    "import matplotlib.image as mpimg\n",
    "import math\n",
    "%matplotlib inline\n",
    "\n",
    "from functions import *"
   ]
  },
  {
   "cell_type": "markdown",
   "metadata": {
    "deletable": true,
    "editable": true
   },
   "source": [
    "# Load the SVM"
   ]
  },
  {
   "cell_type": "code",
   "execution_count": 2,
   "metadata": {
    "collapsed": true,
    "deletable": true,
    "editable": true
   },
   "outputs": [],
   "source": [
    "# Load the classifier and parameters\n",
    "data_file = 'svm.p'\n",
    "with open(data_file, mode='rb') as f:\n",
    "    data = pickle.load(f)\n",
    "    \n",
    "svc = data['svc'] \n",
    "X_scaler = data['X_scaler']\n",
    "color_space = data['color_space']\n",
    "spatial_size = data['spatial_size']\n",
    "hist_bins = data['hist_bins']\n",
    "orient = data['orient']\n",
    "pix_per_cell = data['pix_per_cell']\n",
    "cell_per_block = data ['cell_per_block']\n",
    "hog_channel = data['hog_channel']\n",
    "spatial_feat = data ['spatial_feat']\n",
    "hist_feat = data['hist_feat']\n",
    "hog_feat = data['hog_feat']"
   ]
  },
  {
   "cell_type": "markdown",
   "metadata": {
    "deletable": true,
    "editable": true
   },
   "source": [
    "# Define Vehicle Detection Functions"
   ]
  },
  {
   "cell_type": "code",
   "execution_count": 3,
   "metadata": {
    "collapsed": true,
    "deletable": true,
    "editable": true
   },
   "outputs": [],
   "source": [
    "def search(image):\n",
    "    # Grab the shape of the incoming image\n",
    "    shape = np.shape(image)\n",
    "    \n",
    "    # Define the relative size of each of the boxes to look for vehicles\n",
    "    window0 = int(.333*shape[0])\n",
    "    window1 = int(.25*shape[0])\n",
    "    window2 = int(.167*shape[0])\n",
    "    window3 = int(.097*shape[0])\n",
    "    \n",
    "    # Define how much overlap there is for the windows\n",
    "    o_const = .75\n",
    "    window = [(window0,window0),(window1,window1),(window2,window2),(window3,window3)]\n",
    "    overlap = [(o_const,o_const),(o_const,o_const),(o_const,o_const),(o_const,o_const)]\n",
    "    \n",
    "    # Define how much actual size of the frames\n",
    "    scale0 = int(.527*shape[0])\n",
    "    scale1 = int(.527*shape[0])\n",
    "    scale2 = int(.548*shape[0])\n",
    "    scale3 = int(.5625*shape[0])\n",
    "    y_start_stop =[[scale0,scale0+window0/2],[scale1,scale1+window1/2],[scale2,scale2+window2/2],[scale3,scale3+window3/2]]\n",
    "    \n",
    "    # Search each of the windows for their classification\n",
    "    hot_windows = []\n",
    "    for i in range(len(Y_start_stop)):\n",
    "        windows = slide_window(image, y_start_stop=y_start_stop[i], \n",
    "                            xy_window=window[i], xy_overlap=overlap[i]) \n",
    "        \n",
    "        hot_windows +=  search_windows(image, windows, svc, X_scaler, color_space=color_space, \n",
    "                            spatial_size=spatial_size, hist_bins=hist_bins, \n",
    "                            orient=orient, pix_per_cell=pix_per_cell, \n",
    "                            cell_per_block=cell_per_block, \n",
    "                            hog_channel=hog_channel, spatial_feat=spatial_feat, \n",
    "                            hist_feat=hist_feat, hog_feat=hog_feat)                       \n",
    "\n",
    "    return hot_windows\n",
    "\n",
    "def add_heat(heatmap, bbox_list):\n",
    "    # Iterate through list of bboxes\n",
    "    if bbox_list:\n",
    "        for box in bbox_list:\n",
    "            # Add += 1 for all pixels inside each bbox\n",
    "            # Assuming each \"box\" takes the form ((x1, y1), (x2, y2))\n",
    "            heatmap[box[0][1]:box[1][1], box[0][0]:box[1][0]] += 1\n",
    " \n",
    "    # Return updated heatmap\n",
    "    return heatmap\n",
    "\n",
    "def apply_threshold(heatmap, threshold):\n",
    "    # Zero out pixels below the threshold\n",
    "    heatmap[heatmap <= threshold] = 0\n",
    "    # Return thresholded map\n",
    "    return heatmap\n",
    "\n",
    "def draw_labeled_bboxes(img, labels):\n",
    "    # Iterate through all detected cars\n",
    "    for car_number in range(1, labels[1]+1):\n",
    "        # Find pixels with each car_number label value\n",
    "        nonzero = (labels[0] == car_number).nonzero()\n",
    "        # Identify x and y values of those pixels\n",
    "        nonzeroy = np.array(nonzero[0])\n",
    "        nonzerox = np.array(nonzero[1])\n",
    "        # Define a bounding box based on min/max x and y\n",
    "        bbox = ((np.min(nonzerox), np.min(nonzeroy)), (np.max(nonzerox), np.max(nonzeroy)))\n",
    "        # Draw the box on the image\n",
    "        cv2.rectangle(img, bbox[0], bbox[1], (0,0,255), 6)\n",
    "    # Return the image\n",
    "    return img"
   ]
  },
  {
   "cell_type": "markdown",
   "metadata": {
    "deletable": true,
    "editable": true
   },
   "source": [
    "# Define Bounding Box Class"
   ]
  },
  {
   "cell_type": "code",
   "execution_count": 4,
   "metadata": {
    "collapsed": false,
    "deletable": true,
    "editable": true
   },
   "outputs": [],
   "source": [
    "# Box Class to keep track of previously detected vehicles for added stability\n",
    "class BoundingBoxes:\n",
    "    def __init__(self,n):\n",
    "        # maintain a list of maximum size n of the last boxes seen\n",
    "        self.stored_boxes = col.deque([],maxlen=n)\n",
    "        # set of current boxes\n",
    "        self.allboxes = []\n",
    "        \n",
    "    def update(self,boxes):\n",
    "        self.stored_boxes.appendleft(boxes)\n",
    "        newboxes = []\n",
    "        for boxes in self.stored_boxes:\n",
    "            newboxes += boxes\n",
    "        self.allboxes = newboxes"
   ]
  },
  {
   "cell_type": "markdown",
   "metadata": {
    "deletable": true,
    "editable": true
   },
   "source": [
    "# Define Line Class"
   ]
  },
  {
   "cell_type": "code",
   "execution_count": 5,
   "metadata": {
    "collapsed": true,
    "deletable": true,
    "editable": true
   },
   "outputs": [],
   "source": [
    "# Define a class to receive the characteristics of each line detection\n",
    "class Line():\n",
    "    def __init__(self):\n",
    "        self.last_fit = []\n",
    "        self.y = []\n",
    "        self.x = []\n",
    "        self.max_keep = 5\n",
    "        \n",
    "        self.filled = False\n",
    "        self.iterator = 0\n",
    "        self.past_coefs = []\n",
    "        \n",
    "    # Update the stored lane values\n",
    "    def update_lane(self, fit, y, x):\n",
    "        self.last_fit = fit\n",
    "        self.y = y\n",
    "        self.x = x\n",
    "        \n",
    "    # Retrieve the stored lane values\n",
    "    def get_lane(self):\n",
    "        return self.last_fit, self.y, self.x\n",
    "    \n",
    "    # Cover all iterations for smoothing\n",
    "    def smooth(self, new_coefs):\n",
    "        # Check if enough lanes have been found\n",
    "        if self.filled == False:\n",
    "            # Add the new found coefficients onto the list\n",
    "            self.past_coefs.append(new_coefs)\n",
    "            \n",
    "            # Increment the counter\n",
    "            self.iterator += 1\n",
    "            \n",
    "            ## Smooth over however may sets of coefficients have been found so far\n",
    "            out = self.get_coefs()\n",
    "            \n",
    "            # Check if we have sufficiently populated the list\n",
    "            if self.iterator == self.max_keep:\n",
    "                self.filled = True\n",
    "                self.iterator = 0\n",
    "                print('filled')\n",
    "                \n",
    "        # After the list of coefficients has been sufficiently populated\n",
    "        else:\n",
    "            # Change the current iterator's coefficients\n",
    "            self.past_coefs[self.iterator] = new_coefs\n",
    "            # Smooth of the past self.max_keep coefficients\n",
    "            self.iterator += 1\n",
    "            out = self.get_coefs()\n",
    "            \n",
    "            if self.iterator == self.max_keep:\n",
    "                self.iterator = 0\n",
    "            \n",
    "        return out\n",
    "    \n",
    "    # Support function for smooth()\n",
    "    def get_coefs(self):\n",
    "        temp = np.copy(self.past_coefs)\n",
    "        first = np.median(temp[:,0])\n",
    "        second = np.median(temp[:,1])\n",
    "        third = np.median(temp[:,2])\n",
    "        out = np.array((first,second,third))\n",
    "            \n",
    "        return np.ndarray.flatten(out)"
   ]
  },
  {
   "cell_type": "markdown",
   "metadata": {
    "deletable": true,
    "editable": true
   },
   "source": [
    "# Vehicle Detector"
   ]
  },
  {
   "cell_type": "code",
   "execution_count": 6,
   "metadata": {
    "collapsed": true,
    "deletable": true,
    "editable": true
   },
   "outputs": [],
   "source": [
    "def vehicle_detector(image):\n",
    "    draw_image = np.copy(image)    \n",
    "    image = image.astype(np.float32)/255\n",
    "    hot_windows = search(image)\n",
    "    heatmap = np.zeros_like(image[:,:,0]).astype(np.float)\n",
    "    boxes.update(hot_windows)\n",
    "    heatmap = add_heat(heatmap, boxes.allboxes)\n",
    "    heatmap  = apply_threshold(heatmap,3)\n",
    "    labels = label(heatmap)\n",
    "    \n",
    "    return labels"
   ]
  },
  {
   "cell_type": "markdown",
   "metadata": {
    "deletable": true,
    "editable": true
   },
   "source": [
    "# Lane Finder"
   ]
  },
  {
   "cell_type": "code",
   "execution_count": 7,
   "metadata": {
    "collapsed": true,
    "deletable": true,
    "editable": true
   },
   "outputs": [],
   "source": [
    "def lane_finder(img):\n",
    "    global left, right\n",
    "    # undistort the image\n",
    "    undist = undistort(img)\n",
    "    \n",
    "    # Extract the binary image\n",
    "    combined = binary_extraction(undist)\n",
    "     \n",
    "    # Warp the image\n",
    "    warped = warp(combined)\n",
    "     \n",
    "    # Mask it\n",
    "    out = apply_mask(warped)\n",
    "     \n",
    "    # Generate a binary output\n",
    "    binary_warped = np.array(out)\n",
    "      \n",
    "    # Find lane indices\n",
    "    left_lane_inds, right_lane_inds = get_new_indices(binary_warped)\n",
    "    \n",
    "    # Where any lane pixels found?\n",
    "    if (np.count_nonzero(left_lane_inds) != 0) & (np.count_nonzero(right_lane_inds) != 0):\n",
    "        # Find lane fits\n",
    "        left_fit, right_fit, lefty, leftx, righty, rightx = get_lane_fits(binary_warped, left_lane_inds, right_lane_inds)\n",
    "        left.update_lane(left_fit, lefty, leftx)\n",
    "        right.update_lane(right_fit, righty, rightx)\n",
    "    else:\n",
    "        # Use old fits\n",
    "        left_fit, lefty, leftx = left.get_lane()\n",
    "        right_fit, righty, rightx = right.get_lane()\n",
    "    \n",
    "    # Is this the first frame annotated\n",
    "    if len(left.past_coefs) != 0:\n",
    "        l_check = np.linalg.norm(np.subtract(left_fit,left.get_coefs())) < 50\n",
    "        r_check = np.linalg.norm(np.subtract(right_fit,right.get_coefs())) < 50\n",
    "    else:\n",
    "        l_check = True\n",
    "        r_check = True\n",
    "    \n",
    "    # If the current fit is good\n",
    "    if l_check:\n",
    "        # Smooth out the current fit\n",
    "        smoothed_left_fit = left.smooth(left_fit)\n",
    "    else:\n",
    "        smoothed_left_fit = left.get_coefs()\n",
    "        \n",
    "    if r_check:\n",
    "        # Smooth out the current fit\n",
    "        smoothed_right_fit = right.smooth(right_fit)\n",
    "    else:\n",
    "        smoothed_right_fit = right.get_coefs()\n",
    "     \n",
    "    # Fit the lane pixels\n",
    "    ploty, left_fitx, right_fitx = identify_lanes(binary_warped, smoothed_left_fit, smoothed_right_fit)\n",
    "     \n",
    "    # Find the curvature\n",
    "    left_curverad, right_curverad = curvature(ploty, lefty, righty, leftx, rightx)\n",
    "     \n",
    "    # Draw the found lanes\n",
    "    warp_zero = draw_lanes(img, ploty, left_fitx, right_fitx)\n",
    "     \n",
    "    # Annotate original frame with lanes\n",
    "    lane = unwarp_lanes(img, warp_zero)\n",
    "     \n",
    "    # Annotate found lanes with text\n",
    "    result = write_text(lane, left_fitx, right_fitx, left_curverad, right_curverad)\n",
    "    \n",
    "    return result"
   ]
  },
  {
   "cell_type": "markdown",
   "metadata": {
    "deletable": true,
    "editable": true
   },
   "source": [
    "# Define Pipeline"
   ]
  },
  {
   "cell_type": "code",
   "execution_count": 8,
   "metadata": {
    "collapsed": true,
    "deletable": true,
    "editable": true
   },
   "outputs": [],
   "source": [
    "def pipeline(img):\n",
    "    found_lane = lane_finder(img)\n",
    "    labels = vehicle_detector(img)\n",
    "    \n",
    "    output = draw_labeled_bboxes(found_lane, labels)\n",
    "    \n",
    "    return output"
   ]
  },
  {
   "cell_type": "markdown",
   "metadata": {
    "deletable": true,
    "editable": true
   },
   "source": [
    "# Annotate Video"
   ]
  },
  {
   "cell_type": "code",
   "execution_count": 10,
   "metadata": {
    "collapsed": false,
    "deletable": true,
    "editable": true
   },
   "outputs": [
    {
     "name": "stdout",
     "output_type": "stream",
     "text": [
      "[MoviePy] >>>> Building video annotated_project.mp4\n",
      "[MoviePy] Writing video annotated_project.mp4\n"
     ]
    },
    {
     "name": "stderr",
     "output_type": "stream",
     "text": [
      "  0%|          | 3/1261 [00:02<15:20,  1.37it/s]"
     ]
    },
    {
     "name": "stdout",
     "output_type": "stream",
     "text": [
      "filled\n",
      "filled\n"
     ]
    },
    {
     "name": "stderr",
     "output_type": "stream",
     "text": [
      "100%|█████████▉| 1260/1261 [14:37<00:00,  1.42it/s]\n"
     ]
    },
    {
     "name": "stdout",
     "output_type": "stream",
     "text": [
      "[MoviePy] Done.\n",
      "[MoviePy] >>>> Video ready: annotated_project.mp4 \n",
      "\n",
      "CPU times: user 24min 7s, sys: 20.5 s, total: 24min 27s\n",
      "Wall time: 14min 37s\n"
     ]
    }
   ],
   "source": [
    "boxes = BoundingBoxes(n=3)\n",
    "left = Line()\n",
    "right = Line()\n",
    "\n",
    "inpfile='project_video.mp4'\n",
    "outfile='annotated_project.mp4'\n",
    "clip = VideoFileClip(inpfile)\n",
    "out_clip = clip.fl_image(lambda x:pipeline(x)) \n",
    "%time out_clip.write_videofile(outfile, audio=False)"
   ]
  },
  {
   "cell_type": "code",
   "execution_count": null,
   "metadata": {
    "collapsed": true,
    "deletable": true,
    "editable": true
   },
   "outputs": [],
   "source": []
  }
 ],
 "metadata": {
  "kernelspec": {
   "display_name": "Python 3",
   "language": "python",
   "name": "python3"
  },
  "language_info": {
   "codemirror_mode": {
    "name": "ipython",
    "version": 3
   },
   "file_extension": ".py",
   "mimetype": "text/x-python",
   "name": "python",
   "nbconvert_exporter": "python",
   "pygments_lexer": "ipython3",
   "version": "3.5.2"
  },
  "widgets": {
   "state": {},
   "version": "1.1.2"
  }
 },
 "nbformat": 4,
 "nbformat_minor": 2
}
